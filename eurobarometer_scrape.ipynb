{
  "nbformat": 4,
  "nbformat_minor": 0,
  "metadata": {
    "colab": {
      "provenance": [],
      "authorship_tag": "ABX9TyMMeJxbYOE97R1OxwBmcPUz",
      "include_colab_link": true
    },
    "kernelspec": {
      "name": "python3",
      "display_name": "Python 3"
    },
    "language_info": {
      "name": "python"
    }
  },
  "cells": [
    {
      "cell_type": "markdown",
      "metadata": {
        "id": "view-in-github",
        "colab_type": "text"
      },
      "source": [
        "<a href=\"https://colab.research.google.com/github/akiranishii/PEW-pdfs/blob/main/eurobarometer_scrape.ipynb\" target=\"_parent\"><img src=\"https://colab.research.google.com/assets/colab-badge.svg\" alt=\"Open In Colab\"/></a>"
      ]
    },
    {
      "cell_type": "code",
      "source": [
        "pip install pdfplumber"
      ],
      "metadata": {
        "colab": {
          "base_uri": "https://localhost:8080/"
        },
        "id": "pvfKb8JTzpBG",
        "outputId": "65ca51f5-3853-4c45-b05a-596280db8541"
      },
      "execution_count": 1,
      "outputs": [
        {
          "output_type": "stream",
          "name": "stdout",
          "text": [
            "Looking in indexes: https://pypi.org/simple, https://us-python.pkg.dev/colab-wheels/public/simple/\n",
            "Requirement already satisfied: pdfplumber in /usr/local/lib/python3.8/dist-packages (0.8.0)\n",
            "Requirement already satisfied: pdfminer.six==20221105 in /usr/local/lib/python3.8/dist-packages (from pdfplumber) (20221105)\n",
            "Requirement already satisfied: Wand>=0.6.10 in /usr/local/lib/python3.8/dist-packages (from pdfplumber) (0.6.11)\n",
            "Requirement already satisfied: Pillow>=9.1 in /usr/local/lib/python3.8/dist-packages (from pdfplumber) (9.4.0)\n",
            "Requirement already satisfied: charset-normalizer>=2.0.0 in /usr/local/lib/python3.8/dist-packages (from pdfminer.six==20221105->pdfplumber) (3.0.1)\n",
            "Requirement already satisfied: cryptography>=36.0.0 in /usr/local/lib/python3.8/dist-packages (from pdfminer.six==20221105->pdfplumber) (39.0.1)\n",
            "Requirement already satisfied: cffi>=1.12 in /usr/local/lib/python3.8/dist-packages (from cryptography>=36.0.0->pdfminer.six==20221105->pdfplumber) (1.15.1)\n",
            "Requirement already satisfied: pycparser in /usr/local/lib/python3.8/dist-packages (from cffi>=1.12->cryptography>=36.0.0->pdfminer.six==20221105->pdfplumber) (2.21)\n"
          ]
        }
      ]
    },
    {
      "cell_type": "code",
      "source": [
        "pip install nltk"
      ],
      "metadata": {
        "colab": {
          "base_uri": "https://localhost:8080/"
        },
        "id": "Q0DiIL3Dzqtr",
        "outputId": "7ee277b1-6dc0-4486-9e75-177029ec3d65"
      },
      "execution_count": 2,
      "outputs": [
        {
          "output_type": "stream",
          "name": "stdout",
          "text": [
            "Looking in indexes: https://pypi.org/simple, https://us-python.pkg.dev/colab-wheels/public/simple/\n",
            "Requirement already satisfied: nltk in /usr/local/lib/python3.8/dist-packages (3.7)\n",
            "Requirement already satisfied: joblib in /usr/local/lib/python3.8/dist-packages (from nltk) (1.2.0)\n",
            "Requirement already satisfied: click in /usr/local/lib/python3.8/dist-packages (from nltk) (7.1.2)\n",
            "Requirement already satisfied: regex>=2021.8.3 in /usr/local/lib/python3.8/dist-packages (from nltk) (2022.6.2)\n",
            "Requirement already satisfied: tqdm in /usr/local/lib/python3.8/dist-packages (from nltk) (4.64.1)\n"
          ]
        }
      ]
    },
    {
      "cell_type": "code",
      "source": [
        "from google.colab import drive\n",
        "import pdfplumber\n",
        "import re\n",
        "import nltk\n",
        "from nltk.corpus import words\n",
        "import os\n",
        "import pandas as pd"
      ],
      "metadata": {
        "id": "l8TVXcD92XuM"
      },
      "execution_count": 3,
      "outputs": []
    },
    {
      "cell_type": "code",
      "execution_count": 4,
      "metadata": {
        "colab": {
          "base_uri": "https://localhost:8080/"
        },
        "id": "jsRMxVGDqXeZ",
        "outputId": "70c544a1-8bb1-442b-a1f5-6e6d863d3454"
      },
      "outputs": [
        {
          "output_type": "stream",
          "name": "stdout",
          "text": [
            "Mounted at /content/gdrive/\n"
          ]
        }
      ],
      "source": [
        "drive.mount('/content/gdrive/', force_remount=True)"
      ]
    },
    {
      "cell_type": "code",
      "source": [
        "%cd gdrive/MyDrive/'Akira Project'/EuroB/'EuroB PDFs'"
      ],
      "metadata": {
        "colab": {
          "base_uri": "https://localhost:8080/"
        },
        "id": "_DLSi7Lrtvmy",
        "outputId": "d5104acc-ffaa-4160-a69d-e2db1a1051d2"
      },
      "execution_count": 5,
      "outputs": [
        {
          "output_type": "stream",
          "name": "stdout",
          "text": [
            "/content/gdrive/.shortcut-targets-by-id/13WJ2lXwpD8BV9tb9He2Nepc_2P2rbzqt/Akira Project/EuroB/EuroB PDFs\n"
          ]
        }
      ]
    },
    {
      "cell_type": "code",
      "source": [
        "ls"
      ],
      "metadata": {
        "colab": {
          "base_uri": "https://localhost:8080/"
        },
        "id": "MZ4iETbTqpGc",
        "outputId": "dcb5492d-f831-4ce0-d100-f0d14d3f776e"
      },
      "execution_count": 6,
      "outputs": [
        {
          "output_type": "stream",
          "name": "stdout",
          "text": [
            "03951-0001-Questionnaire.pdf  36663-0001-Questionnaire.pdf\n",
            "06749-0001-Questionnaire.pdf  36664-0001-Questionnaire.pdf\n",
            "06940-0001-Questionnaire.pdf  36665-0001-Questionnaire.pdf\n",
            "07958-0001-Codebook.pdf       36666-0001-Questionnaire.pdf\n",
            "07959-0001-Questionnaire.pdf  36667-0001-Questionnaire.pdf\n",
            "08411-0001-Questionnaire.pdf  36668-0001-Questionnaire.pdf\n",
            "09022-0001-Questionnaire.pdf  36669-0001-Questionnaire.pdf\n",
            "09057-0001-Questionnaire.pdf  36670-0001-Questionnaire.pdf\n",
            "09083-0001-Codebook.pdf       36671-0001-Questionnaire.pdf\n",
            "09321-0001-Questionnaire.pdf  36672-0001-Questionnaire.pdf\n",
            "09322-0001-Questionnaire.pdf  36734-0001-Questionnaire.pdf\n",
            "09771-0001-Questionnaire.pdf  36872-0001-Questionnaire.pdf\n",
            "21160-0001-Codebook.pdf       36874-0001-Questionnaire.pdf\n",
            "34264-0002-Questionnaire.pdf  36875-0001-Questionnaire.pdf\n",
            "34266-0002-Questionnaire.pdf  36876-0001-Questionnaire.pdf\n",
            "34732-0001-Codebook.pdf       36884-0001-Questionnaire.pdf\n",
            "36038-0001-Codebook.pdf       37218-0001-Questionnaire.pdf\n",
            "36242-0001-Questionnaire.pdf  all_sentences.csv\n",
            "36627-0001-Questionnaire.pdf  df_list.csv\n",
            "36654-0001-Questionnaire.pdf  privacy_new_df.csv\n",
            "36660-0001-Questionnaire.pdf  privacy_sentences.csv\n",
            "36662-0001-Questionnaire.pdf\n"
          ]
        }
      ]
    },
    {
      "cell_type": "code",
      "source": [
        "# Download the Punkt tokenizer for sentence splitting (only needed once)\n",
        "nltk.download('punkt')\n",
        "\n",
        "# Download the English words corpus (only needed once)\n",
        "nltk.download('words')\n",
        "\n",
        "# Define a regular expression pattern to match numbers\n",
        "number_pattern = re.compile(r'\\d+')\n",
        "\n",
        "# Get the set of English words\n",
        "english_words = set(words.words())\n",
        "\n",
        "# Open the PDF file\n",
        "with pdfplumber.open('03951-0001-Questionnaire.pdf') as pdf:\n",
        "    # Loop through each page\n",
        "    sentences = []\n",
        "    for page in pdf.pages:\n",
        "        # Extract all the text on the page\n",
        "        text = page.extract_text()\n",
        "        # Remove all numbers from the text\n",
        "        text = re.sub(number_pattern, '', text)\n",
        "        # Split the text into words\n",
        "        words_list = nltk.word_tokenize(text)\n",
        "        # Filter out non-English words\n",
        "        english_words_list = [w for w in words_list if w.lower() in english_words]\n",
        "        # Join the English words back into a sentence\n",
        "        english_text = ' '.join(english_words_list)\n",
        "        # Split the English text into sentences\n",
        "        sentences += nltk.sent_tokenize(english_text)\n",
        "\n",
        "# Print the list of sentences\n",
        "print(sentences)"
      ],
      "metadata": {
        "colab": {
          "base_uri": "https://localhost:8080/"
        },
        "id": "LSCc0cWWdTB6",
        "outputId": "3d9323b5-e93b-4403-e8d3-51c64b5d8eac"
      },
      "execution_count": 7,
      "outputs": [
        {
          "output_type": "stream",
          "name": "stderr",
          "text": [
            "[nltk_data] Downloading package punkt to /root/nltk_data...\n",
            "[nltk_data]   Package punkt is already up-to-date!\n",
            "[nltk_data] Downloading package words to /root/nltk_data...\n",
            "[nltk_data]   Package words is already up-to-date!\n"
          ]
        },
        {
          "output_type": "stream",
          "name": "stdout",
          "text": [
            "['Consumer Data Protection Education Through Sport Product Safety Towards People With and the Commission Data Collection Instrument Consortium for Political and Social Research Box Ann Arbor Michigan', 'of Use Information about Content NOTICE Title scholarship', 'BASIC QUESTIONNAIRE OPINION RESEARCH GROUP Note The basic questionnaire is provided only as a guide to the survey Please see the data and document or the for in and for country specific answer political income', 'A YOUR SURVEY NUMBER B COUNTRY CODE OUR SURVEY NUMBER INTERVIEW NUMBER Q What is your nationality Please tell me the country that y MULTIPLE POSSIBLE United Kingdom Great Northern Finland Other Close interview Q TREND OPINION RESEARCH GROUP AUTUMN Page', 'First we are going to talk about the to amicably settle you could have with a seller or a service provider in OUR COUNTRY Q Did you ever have to complain to a salesman retailer or service provider SHOW CARD READ OUT ONE ANSWER ONLY Yes often Yes sometimes Yes rarely No never Q TREND Q When you have had to you had to complain about a product or service did you you complain to the salesman retailer or service SHOW CARD READ OUT MULTIPLE POSSIBLE in person by telephone by N by In another way SPONTANEOUS It on the SPONTANEOUS Q TREND IF BY OR BY CODE OR IN Q GO TO Q Q If you to complain in writing do M SHOW CARD READ OUT MULTIPLE POSSIBLE write the letter yourself M ask for the assistance of a friend or a family member ask for the assistance of a consumer consumer help desk ask for the assistance of a solicitor ask for someone else assistance SPONTANEOUS Q TREND OPINION RESEARCH GROUP AUTUMN Page', 'ASK ALL Q Have you ever of other than in charge of settling consumer such as arbitration or conciliation M Yes No Q TREND IF YES CODE IN Q GO TO Q Q When you have to complain about a product or a service would you be willing to bring your problem to the attention of such a body Which of the following to you SHOW CARD READ OUT ONE ANSWER ONLY M No M Yes on condition that you may reject the decision M Yes in all Q TREND IF YES CODE IN Q GO TO Q Q Have you any about these arbitration mediation or conciliation IF YES Which of these SHOW CARD READ OUT MULTIPLE POSSIBLE M No no Yes that they are not competent Yes that they are not impartial Yes not knowing how they work Yes not being able to put forward my opinion Yes that the provider does not abide by the decision Yes that these do not respect the law Yes losing my right to go to court Yes the cost of the legal procedure Q TREND OPINION RESEARCH GROUP AUTUMN Page', 'ASK ALL Q In the last five after a product or service have you ever had that you could not settle amicably with the salesman retailer or service provider Yes could not settle amicably No could settle amicably M No never had any N Q TREND IF YES CODE IN Q GO TO Q Q What kind of product or service was involved SHOW CARD READ OUT MULTIPLE POSSIBLE Food Car purchase repair hire M Insurance M Household Telecommunication telephone mobile connection N Clothing Property rental purchase renovation building M Leisure package holiday M by Post Travel air rail M Water gas or electricity Other SPONTANEOUS Q TREND OPINION RESEARCH GROUP AUTUMN Page', 'IF YES CODE IN Q GO TO Q Q What did you do when you did not find an amicable solution with the salesman retailer or service provider SHOW CARD READ OUT MULTIPLE POSSIBLE I did do anything I went to see a solicitor who brought the matter to court I brought the matter to court myself I brought the matter to an arbitration mediation conciliation body M I for the advice of a consumer consumer help desk and I brought the matter to court I for the advice of a consumer consumer help desk and I brought the matter to an arbitration mediation conciliation body M I for the advice of a association but did not pursue the matter SPONTANEOUS Q TREND SLIGHTLY ASK ALL Q If you had a problem with a product or service bought in OUR COUNTRY what would be the minimum amount which would make you bring it to court SHOW CARD READ OUT ONE ANSWER ONLY Less than GO TO Q GO TO Q GO TO Q GO TO Q GO TO Q I would never go to court whatever the amount SPONTANEOUS GO TO Q GO TO Q Q TREND OPINION RESEARCH GROUP AUTUMN Page', 'IF CODE TO IN Q GO TO Q a Why would you not bring the matter to court for a lower amount Is it SHOW CARD READ OUT MULTIPLE POSSIBLE it would be too expensive in relation to what the product or service is worth the legal procedure would be too long the legal procedure would be too complicated I would not know who to talk to it would be would not win For other SPONTANEOUS Q TREND IF CODE IN Q GO TO Q b Why would you not bring the matter to court SHOW CARD READ OUT MULTIPLE POSSIBLE It would be too expensive in relation to what the product or service is worth The legal procedure would be too long The legal procedure would be too complicated I would not know who to talk to It would be would not win For other SPONTANEOUS NEW ASK ALL Q Do you have an insurance policy that could cover the cost of a legal case concerning about consumer Yes No Q TREND OPINION RESEARCH GROUP AUTUMN Page', 'Q Would you be more willing to defend your in court if you could join with other who were about the same thing IF YES Certainly or probably IF NO Certainly not or probably not Yes certainly Yes probably No probably not No certainly not Q TREND Q Which of the following would most encourage you to defend your in court with other SHOW CARD READ OUT ONE ANSWER ONLY Pay my part of the legal only if the court decided in my Not to be bound by the decision of the court even if I had to take part in the case Benefit from a decision of the court even if I had not to take part in the case Be personally and individually informed about the way the case is I would not go to court with other SPONTANEOUS Q TREND Q In whom would you have the most confidence to defend several in court SHOW CARD READ OUT ONE ANSWER ONLY Yourself Another consumer who would represent all those who were about the same thing A consumer association A A public service SPONTANEOUS Nobody SPONTANEOUS Q TREND OPINION RESEARCH GROUP AUTUMN Page', 'Q If someone went to court several who were about the same thing what would you prefer SHOW CARD READ OUT ONE ANSWER ONLY That the case is and that you can join it from the start That the case is and that you can join it later at any time Being automatically considered as one of the by the case except if you state that you do not want to be I prefer to defend myself be on my own SPONTANEOUS Q TREND Q To what extent do you have confidence in the to settle consumer efficiently Would you say you SHOW CARD READ OUT ONE ANSWER ONLY a great deal of confidence a fair amount of confidence not very much confidence no confidence at all Q TREND Q In your opinion how could the current justice work of the be By SHOW CARD READ OUT MULTIPLE POSSIBLE more independent faster simpler more transparent lower that all the are if I win more extensive legal assistance better information on Other SPONTANEOUS Q TREND OPINION RESEARCH GROUP AUTUMN Page', 'Q Who do you think can best protect your as a consumer SHOW CARD READ OUT ONE ANSWER ONLY A justice system An arbitration mediation conciliation body M A body equally made up of and A body set up by of A body set up by consumer A NATIONALITY public in charge of consumer protection A public in charge of consumer protection Other s SPONTANEOUS Q TREND SLIGHTLY Q If you had a problem with a product or service you bought abroad for example on a trip by order through a program or on the and you had not found an amicable solution what would be the minimum amount which would make you bring it to court SHOW CARD READ OUT ONE ANSWER ONLY M Less than I would never go to court whatever the amount SPONTANEOUS I would never buy a product or service abroad SPONTANEOUS Q TREND Q Have you ever had to complain about a product or service you bought abroad for example on a trip by through a program on the M Yes No I have never bought anything abroad SPONTANEOUS Q TREND OPINION RESEARCH GROUP AUTUMN Page', 'IF YES CODE IN Q GO TO Q Q When you have had to complain about product or service you bought abroad did you do anything IF YES did you SHOW CARD READ OUT MULTIPLE POSSIBLE No I did do anything Yes in person to the salesman retailer or service provider Yes to the salesman retailer or service provider by telephone Yes by writing to the salesman retailer or service provider Yes by to the salesman retailer or service provider Yes to a consumer association in the country of purchase M Yes to a NATIONALITY consumer association M Yes to a solicitor Yes to an arbitration mediation conciliation body in the country of purchase M Yes to a NATIONALITY arbitration mediation conciliation body M Yes to a court in the country of purchase M Yes to a NATIONALITY court M Yes to someone else SPONTANEOUS Q TREND IF YES CODE TO IN Q GO TO Q Q Were you very satisfied fairly satisfied not very satisfied or not at all satisfied with the result Very satisfied Fairly satisfied Not very satisfied Not at all satisfied Q TREND OPINION RESEARCH GROUP AUTUMN Page', 'ASK ALL Q In your opinion who is most capable of settling about consumer or bought abroad SHOW CARD READ OUT ONE ANSWER ONLY The in the country of purchase M Special for these Arbitration mediation and conciliation in the country of purchase M Special arbitration mediation and conciliation for these M Public in charge of consumer protection in the country of purchase M A public in charge of consumer protection Other SPONTANEOUS Q TREND There are arbitration mediation and conciliation in each country The network put in place by the Commission who have bought or abroad to contact these in their own language Q a If you had bought something abroad and a dispute arose would you be prepared to use such a network b And would you be prepared to use such a network READ OUT YES NO get information about these conciliation a b make a complaint and follow it up NEW Q The Commission the available in each language of the Union to inform about the network SHOW CARD a Have you ever about it IF YES CODE IN Q GO TO Q b Have you ever the READ OUT YES NO a Ever b Ever the NEW OPINION RESEARCH GROUP AUTUMN Page', 'ASK ALL Q If in any country of the Union could use the same form to complain about a product or service would this SHOW CARD READ OUT ONE ANSWER ONLY very useful fairly useful not very useful not at all useful Q TREND Q The Union a single form available in each language of the Union to help who wish to complain about a product or a service in any Union country Have you ever seen it or about it or not Yes No Q TREND OPINION RESEARCH GROUP AUTUMN Page', 'Now let talk about the protection of your personal data Q Different private and public keep personal information about us It is sometimes said that our privacy must be properly Are you concerned or not that your privacy is being Are you READ OUT Very concerned Fairly concerned Not very concerned Not at all concerned Q TREND OPINION RESEARCH GROUP AUTUMN Page', 'Q I am going to read you a list of NATIONALITY that may keep personal information about us For each of them please tell me whether you trust them or not to use this information in a way you think acceptable READ OUT TRUST DO NOT TRUST Medical and Insurance Credit card and financial Police Social Security Tax Local National Credit reference that is which keep of people Mail order opinion research I do trust any of these SPONTANEOUS Q TREND OPINION RESEARCH GROUP AUTUMN Page', 'Q For each of the following please tell me if you tend to agree or tend to disagree SHOW CARD TEND TO TEND TO READ OUT AGREE DISAGREE You should be informed why are gathering your personal data and if they are it with other The level of personal data protection provided by the law in OUR COUNTRY is high People awareness about personal data protection in OUR COUNTRY is low You are worried about leaving personal information on the such as name address date of birth gender NATIONALITY legislation can cope with the growing number of people leaving personal information on the The NATIONALITY that keep personal information should not be to transfer these without your consent to similar in a country which is not a member of the Union Most non Union do not have data protection that are as effective as the in place in the Union NEW OPINION RESEARCH GROUP AUTUMN Page', 'Q a Before today had you or not SHOW CARD b IF YES CODE FOR ITEM IN Q a Have you ever this right Q Q b READ OUT NOT YES NO Independent the application of data protection hearing from and imposing on law access to personal data by and the right to correct or remove data which is inaccurate or been unlawfully IF CODE IN ITEM Q b Have you ever this right ASK ALL Those personal information are obliged to provide with certain information such as their identity and the purpose of the data collection Right to object to the use of personal information for the purpose of direct marketing The need to have your agreement to use your personal information and your right to oppose some NEW Q A lot of personal data are collected when people are on the Have you ever of or limiting the collection of such data FOR EXAMPLE IF YES And have you ever used these or or not No I have not about them Yes I have about them but I have never used them Yes I have about them and I have already used them NEW OPINION RESEARCH GROUP AUTUMN Page', 'IF ABOUT THEM BUT NEVER USED THEM CODE IN Q GO TO Q Q Why have you never used these or SHOW CARD READ OUT MULTIPLE POSSIBLE I would not know how to install them on my computer I would not know how to use them I am not convinced that they work I am not really concerned about my privacy when I go on the They are too expensive Other SPONTANEOUS NEW ASK ALL Q In light of the fight against international terrorism do you think that people should agree a have their telephone SHOW CARD READ OUT ONE ANSWER ONLY b have their use SHOW SAME CARD READ OUT ONE ANSWER ONLY Q Q b READ OUT TELEPHONE USE No the fundamental and of must always be Yes if the only those suspected of terrorist Yes but only if place under the supervision of a NATIONALITY judge Yes everyone should Yes other SPONTANEOUS NEW OPINION RESEARCH GROUP AUTUMN Page', 'Let move to another topic sport Q How often do SHOW CARD WITH SCALE READ OUT ONE ANSWER ONLY a go on the b watch television c play video d participate in any cultural e exercise or play sport TIMES A TO TIMES TO TIMES LESS READ OUT WEEK OR MORE A WEEK A MONTH NEVER a Go on the b Watch television c Play video Participate in cultural d e Sport exercise NEW IF CODE TO IN Q GO TO Q Q Where do you exercise play the sport that you do most often READ OUT MULTIPLE POSSIBLE In a fitness In a club In a sport At school university Elsewhere SPONTANEOUS NEW OPINION RESEARCH GROUP AUTUMN Page', 'ASK ALL Q In your opinion what are the main of sport SHOW CARD READ OUT MULTIPLE POSSIBLE To improve one s health mental and physical To have fun To relax To be with To make new To meet people from other To develop physical performance To improve To develop new To build To achieve To stimulate the spirit of competition To help people to integrate into society SPONTANEOUS NEW Q In your opinion which of the following does sport promote the most SHOW CARD READ OUT MULTIPLE POSSIBLE Team spirit Tolerance Respect for Fair play Sticking to the Discipline Mutual understanding Solidarity Friendship Equality Effort SPONTANEOUS None of these SPONTANEOUS NEW OPINION RESEARCH GROUP AUTUMN Page', 'Q For each of the following can you please tell me whether you tend to agree or tend to disagree TEND TO TEND TO READ OUT AGREE DISAGREE Sport dialogue between different More time should be devoted to sport in school There should be better between educational and sports in OUR COUNTRY The Union should be able to intervene more in sports The Union should more actively promote education through sport The Union should participate in the fight against Through sport you can fight against any form of discrimination The Union should more with national sports and national Sport it easy to fight sedentary It is easy to find a balance between sport and other leisure The promotion of the ethical and social of sport should be a priority for the Union NEW OPINION RESEARCH GROUP AUTUMN Page', 'Q I am going to read out a list of negative we hear about sport Please tell me which of these worry you most SHOW CARD READ OUT MULTIPLE POSSIBLE of food Corruption Exploitation of Exploitation of people from Sexual abuse of Violence Discrimination Too great an emphasis on money SPONTANEOUS None of these SPONTANEOUS NEW OPINION RESEARCH GROUP AUTUMN Page', 'Now we are going to talk about the safety you can find on domestic electrical Q Do you ever buy domestic electrical Yes No NEW IF YES CODE IN Q GO TO Q Q a When you are about to buy domestic electrical do you always sometimes rarely or never look at or read the following information provided with the product or not SHOW CARD WITH SCALE IF CODE TO IN Q a READ Q a THEN Q AND SO ON b Do you take this information into account when choosing to buy the product or not Q Q b READ OUT ALWAYS RARELY NEVER YES NO TIMES The text showing how to use it The text telling me what to take The or telling me to be careful The phone number of the manufacturer or the distributor or their representative in OUR COUNTRY The text telling me what to do in case of NEW Q When for use are provided with a domestic electrical appliance do you usually read them or not READ OUT ONE ANSWER ONLY Yes before the product Yes but only if a problem No never NEW OPINION RESEARCH GROUP AUTUMN Page', 'IF CODE IN Q GO TO Q Q For each of the following of information that may be given in the for use could you please tell me if you usually read it or not READ OUT YES NO How the product works is normally used How to assemble or install it for safe and proper use Where to put it Maintenance and spare What to do if an accident NEW IF YES CODE IN Q GO TO Q Q Do you always sometimes rarely or never keep the for future use READ OUT ONE ANSWER ONLY Always Sometimes Rarely Never It SPONTANEOUS NEW Q What do you think is usually the most effective way to provide for use READ OUT ONE ANSWER ONLY On the On the product itself In a leaflet manual Information from the Other SPONTANEOUS NEW OPINION RESEARCH GROUP AUTUMN Page', 'Q Do you usually find for READ OUT YES NO hard to read understandable comprehensive short and to the point written in NATIONAL LANGUAGE too technical NEW Q Do you always sometimes rarely or never comply with safety READ OUT ONE ANSWER ONLY Always Sometimes Rarely Never NEW Q Do you prefer to get safety SHOW CARD READ OUT ONE ANSWER ONLY Only or logos Only text A combination of logos and text The salesman woman It SPONTANEOUS NEW Q If these safety are given by logos do you usually find READ OUT MULTIPLE POSSIBLE On the On the product itself In a leaflet manual Other SPONTANEOUS NEW OPINION RESEARCH GROUP AUTUMN Page', 'Q Who do you think these logos on SHOW CARD READ OUT ONE ANSWER ONLY The manufacturer The distributor A consumer Other SPONTANEOUS NEW Q If safety are given in text do you usually find READ OUT YES NO hard to read understandable comprehensive short and to the point written in NATIONAL LANGUAGE too technical NEW Q For each of the following about safety could you please tell me if you tend to agree or tend to disagree TEND TO TEND TO READ OUT AGREE DISAGREE Safety explain precisely what to do They can prevent They should mention the to elderly people or people with when the product They should be more specific about the if you don t follow these NEW OPINION RESEARCH GROUP AUTUMN Page', 'Q Have you ever seen the following safety or not READ OUT YES NO To reduce the risk of fire or electric shock do not expose this product to rain or moisture Never obstruct ventilation which are provided to prevent Never put or of any kind in the appliance Make sure that the appliance is plugged into the right power source To have the appliance by an unqualified person can be dangerous NEW Q Do you think safety can prevent Yes No It SPONTANEOUS NEW Q Do you usually take these into account when choosing a domestic electrical appliance Yes No NEW Q Do you think these should be like used on clothes Yes No NEW OPINION RESEARCH GROUP AUTUMN Page', 'Q Have you ever seen the following on domestic electrical you have at home SHOW CARD YES NO SYMBOL SYMBOL SYMBOL SYMBOL SYMBOL SYMBOL SYMBOL NEW Q a Do you know the meaning of all most a few or none of these safety All Most A few None NEW IF CODE TO IN Q GO TO Q b Do you always sometimes rarely never do what the recommend Always Sometimes Rarely Never NEW OPINION RESEARCH GROUP AUTUMN Page', 'ASK ALL Let move to another topic on the Q Have you ever bought anything on the Yes GO TO Q No GO TO Q GO TO Q NEW ASK Q TO THOSE WHO BOUGHT SOMETHING ON THE CODE IN Q GO TO Q Q How often do you buy on the SHOW CARD READ OUT ONE ANSWER ONLY Once a week or more often Once a month Once every Once every Once a year Less often NEW Q When something on the are you worried about any of the following SHOW CARD READ OUT MULTIPLE POSSIBLE Security of payment Credibility of the information on the Delivery goods delay Your as a consumer being Ability to get warranty or refund Anonymity of I am not worried SPONTANEOUS Other SPONTANEOUS NEW OPINION RESEARCH GROUP AUTUMN Page', 'Q Why do you buy on the SHOW CARD READ OUT MULTIPLE POSSIBLE You get the best You like getting the product to your home or to a convenient address It is easier to make between various You have access to from in other You have access to available only on the You can order and at any time of the You do need to go to the shop or the service provider Other SPONTANEOUS NEW Q On which do you prefer to buy SHOW CARD READ OUT MULTIPLE POSSIBLE of traditional of only SPONTANEOUS NEW OPINION RESEARCH GROUP AUTUMN Page', 'Q When you are to shop on a do you think that it is important or not READ OUT IMPORTANT NOT IMPORTANT the site is in your own language the site is NATIONALITY are clearly the site alternative ways of payment information on availability is clear and complete information on delivery is clear and complete information the delivery is accurate are usually reliable information on contractual and are clear and complete your as a consumer are clearly outlined there is no problem the product and getting if something is wrong information on your right to cancel the purchase is clear all are clear while you are making a purchase NEW Q Have you or not of the right to cancel a purchase in respect of Yes No NEW OPINION RESEARCH GROUP AUTUMN Page', 'IF YES CODE IN Q GO TO Q Q Do you think it is the possibility SHOW CARD READ OUT ONE ANSWER ONLY to cancel the purchase within a certain time period without reason or penalty to cancel the purchase and send back the product within a certain time period provided that you have not unpacked it to cancel the purchase and send back the product within a certain time period only if it is Other SPONTANEOUS NEW IF YES CODE IN Q GO TO Q Q For how many days do you think that this right can be in OUR COUNTRY IF CODE days NEW IF YES CODE IN Q GO TO Q Q If you had a problem after making a purchase on the where would you be most likely to go to first for assistance SHOW CARD READ OUT ONE ANSWER ONLY The on which you made the purchase Consumer Public A in making on the The where go to get their An mediation conciliation or arbitration body which without going through the An mediation conciliation or arbitration body which without going through the Other SPONTANEOUS NEW OPINION RESEARCH GROUP AUTUMN Page', 'Q a After making an purchase have you ever had reason to complain IF YES To whom did you SHOW CARD READ OUT MULTIPLE POSSIBLE Yes directly to the Yes to the the Yes to a consumer Yes to a NATIONALITY government body Yes to another association Yes but I did nothing about it No no complaint NEW IF YES CODE TO IN Q GO TO Q b For what reason SHOW CARD READ OUT MULTIPLE POSSIBLE You never received the you ordered The product was not on time The product you received was The you received was not the one you ordered You had payment The to reimburse you for a product you returned to them There was a lack of information on the about the contractual and linked to your purchase There was a lack of information about your as a consumer You were not aware that you had yourself to buy another You bought a on a without being aware of it Other SPONTANEOUS NEW OPINION RESEARCH GROUP AUTUMN Page', 'IF YES CODE TO IN Q a FOR EACH ITEM IN Q a GO TO Q c Were you satisfied or dissatisfied with the way your complaint was handled READ OUT SATISFIED DISSATISFIED By the By the the By a consumer By a NATIONALITY government body By another association NEW TO THOSE WHO BOUGHT SOMETHING ON THE CODE IN Q GO TO Q Q Have you ever used a s Alternative Dispute Dispute Resolution mechanism IF YES Were you satisfied or not Yes you were satisfied Yes but you were not satisfied Yes but you do know yet No never used NEW IF NOT BOUGHT SOMETHING ON THE OR CODE OR IN Q GO TO Q Q Why have you never bought anything on the SHOW CARD READ OUT MULTIPLE POSSIBLE You do not have access to the You do not trust the the is too expensive You are no interested in anything on the something on the is too complicated The is too complicated You have no credit You do not understand the language well enough Other SPONTANEOUS NEW OPINION RESEARCH GROUP AUTUMN Page', 'IF DO NOT TRUST THE CODE IN Q GO TO Q Q For which of the following do you not trust something on the SHOW CARD READ OUT MULTIPLE POSSIBLE Security of payment Credibility of the information on the Delivery goods delay Your as a consumer being Ability to get warranty or refund Anonymity of Other SPONTANEOUS NEW IF NOT INTERESTED IN SOMETHING ON THE CODE IN Q GO TO Q Q Why are you not interested in something on the SHOW CARD READ OUT MULTIPLE POSSIBLE You like going to the You need to see and touch the product you intend to buy You prefer to get advice are not better than in normal Choice is not better than in normal You are not sure you will get service may not work in OUR COUNTRY Other SPONTANEOUS NEW OPINION RESEARCH GROUP AUTUMN Page', 'ASK ALL Q For each of the following could you please tell me if you would feel very confident fairly confident not very confident or not at all confident about it on the SHOW CARD WITH SCALE VERY FAIRLY NOT VERY NOT AT ALL READ OUT CONFIDENT CONFIDENT CONFIDENT CONFIDENT A train ticket A plane ticket A ticket for the a concert Hotel booking Car rental Clothes A a Furniture decoration Food Financial A car A package tour Domestic electrical NEW OPINION RESEARCH GROUP AUTUMN Page', 'Q a Would you be more confident in on the if you could benefit from a guarantee of your card issuer if you encounter with the delivery of the product or with the transaction itself Yes No NEW IF YES CODE IN Q GO TO Q b IF YES Would you be prepared to pay a small additional charge to your card issuer for this guarantee Yes No NEW ASK ALL Q Do you think you are going to shop on the in the next three Yes No NEW Q Would you say that shopping on a from another Union country is more risky than on a NATIONALITY Yes No It on the country SPONTANEOUS NEW OPINION RESEARCH GROUP AUTUMN Page', 'Q a In the context of the have you ever IF CODE IN Q a READ Q a THEN Q b AND SO ON b Have you seen any on the you IF CODE IN Q b READ Q b THEN Q c AND SO ON EXCEPT FOR ITEM c And have you read them SHOW CARD WITH SCALE Q Q Q a IF CODE in IF CODE in READ OUT NOT SEVERAL YES NO YES NO ONCE NEVER TIMES CABLE trust about protecting personal data about the security of payment data about line dispute resolution or amicable resolution other than through the NEW OPINION RESEARCH GROUP AUTUMN Page', 'TO THOSE WHO TRUST CODE FOR ITEM IN Q Q with other do you think that with trust READ OUT ONE ANSWER ONLY more reliable about as reliable less reliable NEW TO THOSE WHO TRUST CODE FOR ITEM IN Q Q If the trust mark owner were not based in OUR COUNTRY which of the following would come to yours SHOW CARD READ OUT ONE ANSWER ONLY You would be more confident about the trust mark You would be as confident about the trust mark You would be less confident about the trust mark It on the trust mark owner SPONTANEOUS NEW OPINION RESEARCH GROUP AUTUMN Page', 'ASK ALL Let move to the end of the questionnaire by talking about people with Q a Are you aware that is the Year of People with USE OFFICIAL NAME IN EACH COUNTRY Yes GO TO Q b No GO TO Q GO TO Q NEW IF CODE IN Q GO TO Q b IF YES How did you find out SHOW CARD READ OUT MULTIPLE POSSIBLE Through a member of your family Through a friend Through an acquaintance Through a trade union Through an Non Governmental Through an or association representative of people with Through another or association Through national regional or local Through the media radio written press Through the Through Union Through an event for this occasion Other s SPONTANEOUS NEW ASK ALL Q In your opinion what is the purpose of the Year of People with SHOW CARD READ OUT To raise money for disabled people To increase understanding of disability To promote the of people with To give a more positive image of people with To show that people with face many of discrimination Other NEW OPINION RESEARCH GROUP AUTUMN Page', 'Q The Year of People with may have to in the quality of life of people with in OUR COUNTRY For each of the following could you please tell me if you tend to agree or tend to disagree SHOW CARD TEND TO TEND TO READ OUT AGREE DISAGREE The Year of People with to people about faced by people with in their daily life The Year of People with the way towards really getting the same for people with as everyone else The Year of People with access to public and transport for physically disabled people The Year of People with access to public and transport for intellectually disabled people The Year of People with physically disabled people to exercise the same of access to as other people The Year of People with intellectually disabled people to exercise the same of access to as other people The Year of People with access to employment for people with physical The Year of People with access to employment for people with intellectual The Year of People with access to standard educational for people with physical The Year of People with understanding of physical disability The Year of People with understanding of intellectual disability The Year of People with media coverage of physical disability The Year of People with media coverage of intellectual disability NEW OPINION RESEARCH GROUP AUTUMN Page', 'Q I am going to read you some about people with and work Please answer yes or no to the following READ OUT YES NO People with have the same legal right as anybody else to a job People with have the same legal right as anybody else to take part in training There are against discrimination in the workplace on the grounds of disability In general make the necessary in the workplace to employ disabled people People with severe physical or intellectual should only work in sheltered NEW Q Do you personally know anyone who any illness disability or infirmity that their in any way IF YES Who are they SHOW CARD MULTIPLE POSSIBLE No Yes a member s of your family Yes friend s Yes an acquaintance s Yes a s Yes a colleague s Yes a client s Yes pupil s at school Yes student s at University Yes other s Yes I regard myself as a disabled person Q a TREND OPINION RESEARCH GROUP AUTUMN Page', 'Q How aware are you of the various of Would you say you are fairly aware or fairly unaware of the various of FAIRLY FAIRLY READ OUT AWARE UNAWARE Visual Hearing Neuromuscular Skeletal Cerebral palsy Spinal cord injury Head injury cerebral vascular accident Stroke cerebral vascular accident Loss of Multiple sclerosis Muscular dystrophy Arthritis Asthma Cancer Diabetes Epilepsy Brain injury disease disease Mental retardation Psychiatric Q TREND OPINION RESEARCH GROUP AUTUMN Page', 'Q What percentage of the population in OUR COUNTRY do you think a disability of any kind DO NOT SHOW CARD DO NOT READ OUT ONE ANSWER ONLY M Less than or more Q TREND OPINION RESEARCH GROUP AUTUMN Page', 'ONLY IN ZONE Let finish with two on the Q All considered do you personally feel very fairly not very not at all that the our currency ONE ANSWER ONLY Very Fairly Not very Not at all None of these SPONTANEOUS Q TREND Q Do you totally agree tend to agree tend to disagree or totally disagree with the statement that By instead of FORMER NATIONAL CURRENCY we feel more than before ONE ANSWER ONLY Totally agree Tend to agree Tend to disagree Totally disagree It nothing to do with how we feel SPONTANEOUS I am not interested in SPONTANEOUS Q TREND OPINION RESEARCH GROUP AUTUMN Page', 'D In political people talk of the left and the right How would you place your on this scale SHOW CARD DO NOT PROMPT IF CONTACT TRY AGAIN LEFT RIGHT Refusal D TREND NO D TO D D Could you give me the letter which best to your own current situation SHOW CARD READ OUT ONE ANSWER ONLY Married Unmarried currently living with partner Unmarried never lived with a partner Unmarried previously lived with a partner but now on my own Widowed Other SPONTANEOUS Refusal SPONTANEOUS D TREND D How old were you when you stopped education IF STILL CODE D TREND NO QUESTION D D Gender Male Female D TREND D How old are you D TREND NO QUESTION D TO D OPINION RESEARCH GROUP AUTUMN Page', 'D a What is your current occupation IF NOT DOING ANY WORK CURRENTLY TO IN D b Did you do any work in the past What was your last occupation D a D b CURRENT LAST OCCUPATION OCCUPATION Responsible for ordinary shopping and looking after the home or without any current occupation not working Student Unemployed or temporarily not working Retired or unable to work through illness SELF EMPLOYED Farmer Fisherman Professional lawyer medical practitioner accountant architect Owner of a shop other person Business owner full or partner of a company EMPLOYED Employed professional employed doctor lawyer accountant architect General management director or top management director general other director Middle management other management department head junior manager teacher technician Employed position working mainly at a desk Employed position not at a desk but driver Employed position not at a desk but in a service job hospital restaurant police fireman Supervisor Skilled manual worker Other unskilled manual worker servant NEVER DID ANY WORK D TREND NO D TO D Are you in your household the person who most to the household income READ OUT Yes No Both equally D TREND OPINION RESEARCH GROUP AUTUMN Page', 'NO QUESTION D IF NO CODE IN D D a What is the current occupation of the person who most to the household income IF NOT DOING ANY WORK CURRENTLY CODE TO IN D b Did do any work in the past What was last occupation D a D b CURRENT LAST OCCUPATION OCCUPATION Responsible for ordinary shopping and looking after the home or without any current occupation not working Student Unemployed or temporarily not working Retired or unable to work through illness SELF EMPLOYED Farmer Fisherman Professional lawyer medical practitioner accountant architect Owner of a shop other person Business owner full or partner of a company EMPLOYED Employed professional employed doctor lawyer accountant architect General management director or top management director general other director Middle management other management department head junior manager teacher technician Employed position working mainly at a desk Employed position not at a desk but driver Employed position not at a desk but in a service job hospital restaurant police fireman Supervisor Skilled manual worker Other unskilled manual worker servant NEVER DID ANY WORK D a b TREND OPINION RESEARCH GROUP AUTUMN Page', 'NO D TO D D Would you say you live in a READ OUT rural area or village small or middle sized town large town D TREND NO D TO D D We also need some information about the income of this household to be able to analyse the survey for different of Here is a list of income SHOW CARD Please count the total wages and PER MONTH of all of this household all and social insurance child and any other income like Of course your answer as all other in this interview will be confidentially and back to you or your household will be impossible Please give me the letter of the income group your household into BEFORE tax and other B T P F E H L N R M S K Refusal D TREND OPINION RESEARCH GROUP AUTUMN Page', 'INTERVIEW DAY MONTH P DATE OF INTERVIEW HOUR P TIME OF THE BEGINNING OF THE INTERVIEW USE HOUR CLOCK P NUMBER OF THE INTERVIEW P Number of present during the interview interviewer Two interviewer and respondent Three Four Five or more P Respondent Excellent Fair Average Bad P Size of locality LOCAL P Region LOCAL P Postal code OPINION RESEARCH GROUP AUTUMN Page', 'P Sample point number P Interviewer number P Weighting factor P a Fixed telephone available in the household Yes No b Mobile telephone available in the household Yes No ASK ONLY IN AND FINLAND P Language of interview OPINION RESEARCH GROUP AUTUMN Page', 'This symbol been into each national language', 'BASIC QUESTIONNAIRE OPINION RESEARCH GROUP Note The basic questionnaire is provided only as a guide to the survey Please see the data and document or the for in and for country specific answer political income', 'NUMERO B CODE NUMERO DE Q POSSIBLE Fin de Q TREND OPINION RESEARCH GROUP Page', 'Nous commencer par de un un de en Q de CARTE LIRE M de en Non Q TREND Q eu si service en de CARTE LIRE en par par la par N par service Q TREND SI PAR LA PAR PAR CODE EN Q ALLER EN Q Q Si par M CARTE LIRE la M de un ami un de la de association de un bureau de un de Q TREND OPINION RESEARCH GROUP Page', 'A Q de de de conciliation M Non Q TREND SI CODE EN Q ALLER EN Q Q service e porter un CARTE LIRE M Non condition de refuser la Q TREND SI CODE EN Q ALLER EN Q Q de de conciliation SI CARTE LIRE M Non ne ne de ne comment de ne mon opinion la ne par de ne la de mon droit de la Q TREND OPINION RESEARCH GROUP Page', 'A Q de service eu pu de amiable de n a pu de amiable Non a pu de amiable M Non n a eu N Q TREND SI CODE EN Q ALLER EN Q Q De de de CARTE LIRE De automobile location M assurance De M De la De de mobile connexion N De De location construction M De package travel voyage time share M De par De De M gaz Q TREND OPINION RESEARCH GROUP Page', 'SI CODE EN Q ALLER EN Q Q solution de CARTE LIRE me e un a un de de conciliation M association de un association de un un de de conciliation M un association de Q TREND A Q Si un un un service en de montant e porter en justice CARTE LIRE de Aller en Q Aller en Q Aller en Q Aller en Q Aller en Q en justice montant Aller en Q Aller en Q Q TREND OPINION RESEARCH GROUP Page', 'SI CODE A EN Q ALLER EN Q Q a pour un montant CARTE LIRE par rapport la valeur service la longue la ne ne ne Pour Q TREND SI CODE EN Q ALLER EN Q b CARTE LIRE par rapport la valeur service La longue La ne ne ne Pour A Q assurance payer action pour de Non Q TREND OPINION RESEARCH GROUP Page', 'Q plus e si se de la chose SI SI NON Non Non Q TREND Q plus CARTE LIRE Payer ma part de de justice si tribunal me Ne e par la tribunal si favorable tribunal si e de de en justice Q TREND Q A plus pour en justice A CARTE LIRE un se de la chose association de un s un service public Q TREND OPINION RESEARCH GROUP Page', 'Q Si en justice de se de la chose CARTE LIRE y y plus moment e un par sauf si ne me e e Q TREND Q pour CARTE LIRE tout Q TREND Q A comment la justice travail En assurant CARTE LIRE plus plus plus plus si aide plus information sur de Q TREND OPINION RESEARCH GROUP Page', 'Q en CARTE LIRE Un tribunal la justice Un d de de conciliation M Un de de de Un en place par de de Un en place par de Un public de la protection Un de la protection s Q TREND Q Si un un un service par lors voyage par par sur ne de solution de montant e porter en justice CARTE LIRE M de en justice montant un un service Q TREND Q eu de service par lors voyage par par par sur M Non Q TREND OPINION RESEARCH GROUP Page', 'SI CODE EN Q ALLER EN Q Q eu de service chose SI e CARTE LIRE Non de en de par de par de par association de M association de M un un d de de conciliation M un d de de conciliation M la justice M la justice M Q TREND SI CODE A EN Q ALLER EN Q Q e e e tout e e e e tout e Q TREND OPINION RESEARCH GROUP Page', 'A Q A de CARTE LIRE d M de de conciliation d M de de conciliation M de la protection d M Un public de la protection Q TREND existent de de conciliation en place par la Commission de Q a Si un bien e un pour b e un pour LIRE NON sur a de conciliation b en assurer Q La Commission a site web de pour informer sur CARTE a En SI CODE EN Q ALLER EN Q b ce site web LIRE NON a b ce site web OPINION RESEARCH GROUP Page', 'A Q Si de un pour se service CARTE LIRE utile utile utile tout utile Q TREND Q La Commission a un unique de pour aider se service de en Non Q TREND OPINION RESEARCH GROUP Page', 'de la protection de Q nous On dit vie doit se non de la protection de vie LIRE se se se tout se Q TREND OPINION RESEARCH GROUP Page', 'Q lire conserver nous Pour me dire si pour information acceptable LIRE de de de La police La de de sur de par sans but de de ne de Q TREND OPINION RESEARCH GROUP Page', 'Q me dire si CARTE LIRE but si de protection par la en gens de la protection en e par de sur date de naissance La en de face de gens sur ne sans un non de La ne de ne de protection en place OPINION RESEARCH GROUP Page', 'Q a de CARTE b SI CODE A L ITEM EN Q ce droit Q Q LIRE NON surveillant sur la protection violent la droit de modifier SI CODE A L Q b ITEM ce droit A pour de but on droit de refuser de de marketing direct La accord pour droit opposer Q de gens sur de la PAR SI Non ai ai ne ai ai ai OPINION RESEARCH GROUP Page', 'SI EN A NE A CODE EN Q ALLER EN Q Q CARTE LIRE POSSIBLE ne comment installer sur mon ne comment ne e ne inquiet e de ma vie sur A Q cadre de la international accepter a CARTE LIRE b CARTE LIRE Q Q LIRE Non si la surveillance ne si la surveillance a lieu OPINION RESEARCH GROUP Page', 'un sport Q CARTE LIRE a sur b la c d PAR A A LIRE PAR PAR PLUS a Surfer sur b Regarder la c d e Sport SI CODE A EN Q ALLER EN Q Q sport plus LIRE POSSIBLE un de fitness un club un A OPINION RESEARCH GROUP Page', 'A Q A sport CARTE LIRE POSSIBLE sa physique S amuser Se de gens d plus en de sa l de Aider s la Q A sport plus CARTE LIRE L d La respect de respect La discipline La La L L de OPINION RESEARCH GROUP Page', 'Q Pour me dire si d accord d accord LIRE D ACCORD D ACCORD sport dialogue On plus de sport y en L Union L Union plus l par sport L Union la sport de forme de discrimination L Union facile de par sport facile de un sport de La promotion par sport pour OPINION RESEARCH GROUP Page', 'Q lire de l on sport me dire de plus CARTE LIRE La de La corruption L exploitation en de sur La violence La discrimination de SPONTANEOUS OPINION RESEARCH GROUP Page', 'Nous de sur Q d Non Si CODE IN Q ALLER EN Q Q a CARTE SI CODE A EN Q a LIRE Q Q DE SUITE b en d Q Q LIRE NON JOURS comment l m prendre m d prudent de de en m ce en d accident Q mode d LIRE POSSIBLE d en de Non OPINION RESEARCH GROUP Page', 'SI CODE EN Q ALLER EN Q Q Pour type d mode d me dire si LIRE NON Comment Comment l assembler l installer pour sans danger placer L de rechange la Ce en d accident SI CODE EN Q ALLER EN Q Q mode d pour future LIRE POSSIBLE Q A de plus de d LIRE POSSIBLE Sur l Sur notice un par la OPINION RESEARCH GROUP Page', 'Q d LIRE NON lire en Q de LIRE Q de CARTE LIRE POSSIBLE logos de logos de la Q Si de par logos LIRE Sur l Sur notice OPINION RESEARCH GROUP Page', 'Q A met logos sur CARTE LIRE POSSIBLE fabricant de Q Si de forme de LIRE NON lire en Q Pour de me dire si d accord d accord LIRE de ce risque par plus sur en de non respect de OPINION RESEARCH GROUP Page', 'Q de LIRE NON Pour risque d de ne exposer ce la ni l Ne de ventilation Ne d de d l l sur la source d alimentation pour non d de l Q de Non Q en un Non Q sur Non OPINION RESEARCH GROUP Page', 'Q sur la CARTE NON Q a la signification de de la de d d La SI CODE A EN Q a ALLER EN Q b ce OPINION RESEARCH GROUP Page', 'A un sur Q chose sur Aller en Q Non Aller en Q Aller en Q POSER LA Q A ACHETE SUR CODE EN Q ALLER EN Q Q sur CARTE LIRE par plus par six par an Q un sur inquiet e de CARTE LIRE La La sur La retard respect de en La un ne inquiet e OPINION RESEARCH GROUP Page', 'Q sur CARTE LIRE la de la de plus facile de comparer sur commander tout moment de la de la un un de Q Sur CARTE LIRE sur OPINION RESEARCH GROUP Page', 'Q sur un site me dire important LIRE IMPORTANT IMPORTANT site site site de sur la sur de sur la se passe sans sur en n y a de pour se si chose ne sur droit chose Q droit cadre sur Non OPINION RESEARCH GROUP Page', 'SI CODE EN Q ALLER EN Q Q de la CARTE LIRE pendant sans explication sans de pendant condition de ne de pendant SI CODE EN Q ALLER EN Q Q Pendant de jours ce droit en SI CODE jours SI CODE EN Q ALLER EN Q Q Si un un sur pour de CARTE LIRE site sur association de Un site sur de label de label de Un de de conciliation de sans passer par Un de de conciliation en ligne de sans passer par OPINION RESEARCH GROUP Page', 'Q a chose sur eu de SI de plaint e CARTE LIRE site de en charge site association de public association Non de SI CODE A EN Q ALLER EN Q b Pour s s CARTE LIRE service service a plus service de site a de site ne a sur site ne a sur en ne un un service sur un site sans en OPINION RESEARCH GROUP Page', 'SI CODE A EN Q a POUR ITEM EN Q a ALLER EN Q c e e de la dont a LIRE E E Par site Par l en charge site Par association de Par un public Par association A ACHETE SUR CODE EN Q ALLER EN Q Q eu un site proposant un de la la conciliation SI En e e e ne encore Non n y eu SI N A SUR CODE EN Q ALLER EN Q Q sur CARTE LIRE ne L d ne de sur sur de carte de ne bien la Pour OPINION RESEARCH GROUP Page', 'SI A CODE EN Q ALLER EN Q Q Pour pour sur CARTE LIRE La La sur La retard respect de en La un SI DE SUR CODE EN Q ALLER EN Q Q ne de sur CARTE LIRE aller de de toucher en face de pour ne service ne Pour OPINION RESEARCH GROUP Page', 'A Q Pour me dire si e e e tout e quant son sur CARTE LIRE TOUT E E E E Un billet de train Un billet Un billet de concert location de Un portable un de De la Un voyage de de OPINION RESEARCH GROUP Page', 'Q a plus e sur si de de carte de la la transaction Non SI CODE EN Q ALLER EN Q b SI e payer un petit carte de pour de Non A Q sur Non Q sur un site de plus sur un site Non OPINION RESEARCH GROUP Page', 'Q a de SI CODE EN Q a LIRE Q a Q b DE SUITE b sur de visiter SI CODE EN Q b LIRE Q b Q c DE SUITE SAUF ITEM c CARTE Q Q Q a SI CODE en SI CODE en LIRE NON NON CABLE label de la de protection la de la de en ligne de alternative OPINION RESEARCH GROUP Page', 'A DE CODE A EN Q a Q Par rapport de LIRE plus A DE CODE A EN Q a Q Si label de en se plus de la CARTE LIRE plus label label label label de OPINION RESEARCH GROUP Page', 'A la fin questionnaire en Q a l Aller en Q b Non Aller en Q Aller en Q SI CODE EN Q ALLER EN Q b SI Comment l CARTE LIRE Par un de Par un ami Par Par un Par non Par association Par association Par Par radio Par Par de l Union Par un occasion s A Q A but de l CARTE LIRE en la image plus positive de de discrimination OPINION RESEARCH GROUP Page', 'Q L de la de vie en Pour me dire si d accord en CARTE LIRE D ACCORD D ACCORD L a informer gens sur par vie de jours L a terrain pour L a l pour L a l pour L a droit L a droit L a l L a l L a L a la L a la L a la L a la OPINION RESEARCH GROUP Page', 'Q lire sur travail non LIRE NON droit un droit y a cadre de l en de travail pour employer un handicap physique ne Q de longue un handicap d d SI De s CARTE Non un s de un e ami e s s un e e s un e s un e client e s un e s l un e e s l un e s s me d un handicap Q a TREND OPINION RESEARCH GROUP Page', 'Q e de existent e e LIRE de la la accident Congestion accident de en Cancer d de Retard mental Q TREND OPINION RESEARCH GROUP Page', 'Q A de la population en d un handicap NE CARTE NE LIRE M d plus Q TREND OPINION RESEARCH GROUP Page', 'ZONE par sur Q Tout bien content e content e e e content e content e e e Ni ni Q TREND Q tout tout En la place de nous nous un plus ne s Tout tout n a de se ne ne Q TREND OPINION RESEARCH GROUP Page', 'D A de gens de de gauche position sur CARTE NE SI LA INSISTER GAUCHE D TREND DE D A D D la correspond situation CARTE LIRE e e en couple en couple en couple e e e D TREND D A SI ENCORE CODER D TREND DE QUESTION D D D TREND D D TREND DE D A D OPINION RESEARCH GROUP Page', 'D a profession SI A EN D b en dernier lieu b PROFESSION PROFESSION En charge sans sans A la en de Profession expert artisan en tout en Profession Cadre Cadre moyen la un bureau ne un bureau chauffeur ne un bureau de service restaurant police agent de non personnel de N A D TREND DE D A D D la principal foyer LIRE Non de D TREND OPINION RESEARCH GROUP Page', 'DE QUESTION D SI NON CODE IN D D a la profession de la principal foyer SI CODE A EN D a en dernier lieu b PROFESSION PROFESSION En charge sans sans A la en de Profession expert artisan en tout en Profession Cadre Cadre moyen la un bureau ne un bureau chauffeur ne un bureau de service restaurant police agent de non personnel de N A D a b TREND OPINION RESEARCH GROUP Page', 'DE D A D D LIRE commune ville petite moyenne ville D TREND DE D A D D Nous en plus sur foyer pour analyser de de CARTE compter gains de foyer tout Bien de interview sera foyer sera impossible me la de foyer ce B T P F E H L N R M S K D TREND OPINION RESEARCH GROUP Page', 'P DATE DE P DEBUT DE DE A P DE EN P de pendant Quatre plus P Moyenne P P P Code postal OPINION RESEARCH GROUP Page', 'P point de chute P P de P a foyer Non b mobile foyer Non POSER EN EN P de OPINION RESEARCH GROUP Page', 'This symbol been into each national language', 'Technical Standard INTRODUCTION Between st and st the Opinion Research Group a consortium of Market and Public Opinion Research made out of and carried out wave of the Standard on request of the Commission Press and Communication Public Opinion Analysis Unit The following are covered in this wave and redress Q Q Data Protection Q Q Year of Education through Sport Q Q Safety Electrical Q Q Q Q Year of People with Q Q Q Q Standard cover the population of the respective of the Union member aged and over resident in each of the member The basic sample design applied in all member is a random probability one In each EU country a number of sampling is drawn with probability proportional to population size for a total coverage of the country and to population density For doing so are drawn systematically from each of the administrative regional after stratification by individual unit and type of area Hence they represent the whole territory of member according to or equivalent and according to the distribution of resident population of the respective EU in of metropolitan urban and rural In each of the selected sampling a starting address is drawn at random Further are selected as every Nth address by standard random route from the initial address In each household respondent is drawn at random All are in the respondent home and in the appropriate national language', 'NATIONAL FIELDWORK PERIOD NET SAMPLE SIZE AND EXTRAPOLATION EU START END FIELDWORK NET SAMPLE POPULATION COUNTRY INSTITUTE SIZE AGED x East West MARKET ANALYSIS LANSDOWNE Market Research The SPECTRA Finland MARKETING RESEARCH Great MARTIN Northern ULSTER MARKETING Total Number of', 'COMPARISON BETWEEN SAMPLE AND UNIVERSE AND WEIGHTING For each Standard survey a comparison between sample and universe is carried out per country The universe description is derived from population data There are sample one for each country of the Union in addition is divided into East and West and United Kingdom into Great and Northern one for and one for Iceland Each sample area a number of this number may be somewhat above or below that at The target is per sample area except for Northern and and Iceland WITH THE DATA SET There are different used in the survey WEIGHT RESULT FROM TARGET also or WEIGHT SPECIAL also WEIGHT SPECIAL UNITED KINGDOM also WEIGHT WEIGHT also WEIGHT WEIGHT also WEIGHT WEIGHT also WEIGHT WEIGHT Former EAST also WEIGHT also WEIGHT also WEIGHT also WEIGHT or WEIGHT also WEIGHT TOTAL also or WEIGHT STANDARD SIZE AND UNITED KINGDOM also or WEIGHT without WEIGHT with For each EU member state a national weighting procedure marginal RIM and intercellular weighting Iterative Proportional Fitting is carried out based on this universe description As such in all minimum gender age region are in the iteration procedure An additional factor extrapolation is added to bring former East and West together in one entity Former East for and former West for From onwards this weight is not used', 'The same principle is used to bring Northern together with Great to form the United Kingdom Here Northern for and Great for For the sake of analysis historical were together in historical such as of the and from to not inserted in these are set to In order to make a weight the data are population for each sample area sample Standard may include data from A special weight is only for For international weighting the official population as provided by in the Regional Statistical Yearbook data for Total population for input in this procedure are listed above The result is WEIGHT TOTAL the new and old to their respective proportion in the whole of former East former West and does the same for Great and Northern The other are left untouched From onwards a new weight was to separate the that accepted to introduce the as of From onwards a new weight was to add into the group of that accepted to introduce the For an analysis of these use W From onwards or are not used To compare of and EU use W', 'PRECISION OF Each weight is expressed in This that a person with weight equal to will have the weight a person with weight equal to will have the weight In other we use decimal point Hence you need to divide by to have the number of people in the data set WEIGHTED W W W W W W W W W W W BE GE IT PO FI NI EU', 'COUNTRY BEL DEN East East West GER West SPA FRA LUX The NET Finland FIN Great Northern United Kingdom', 'AND RESEARCH The Opinion Research Group rue Colonel Bourg in International Office avenue de la avenue de la Market Analysis Street de planta rue Saint LANSDOWNE Market Research Roger s Green roger Via rue DA SPECTRA da FINLAND MARKETING RESEARCH A S t GREAT MARTIN Ross Mulberry House Smith Square', 'The are by permission of its the Office for Official of the rue']\n"
          ]
        }
      ]
    },
    {
      "cell_type": "code",
      "source": [
        "# pip install textblob"
      ],
      "metadata": {
        "id": "Z6oRuUYY4Nn2"
      },
      "execution_count": 8,
      "outputs": []
    },
    {
      "cell_type": "code",
      "source": [
        "# # try again so I can keep past tense words\n",
        "\n",
        "# import pdfplumber\n",
        "# import re\n",
        "# import nltk\n",
        "# from textblob import TextBlob\n",
        "\n",
        "# # Download the Punkt tokenizer for sentence splitting (only needed once)\n",
        "# nltk.download('punkt')\n",
        "# nltk.download('wordnet')\n",
        "# nltk.download('omw')\n",
        "# nltk.download('omw-1.4')\n",
        "\n",
        "# # Open the PDF file\n",
        "# with pdfplumber.open('03951-0001-Questionnaire.pdf') as pdf:\n",
        "#     # Loop through each page\n",
        "#     sentences = []\n",
        "#     for page in pdf.pages:\n",
        "#         # Extract all the text on the page\n",
        "#         text = page.extract_text()\n",
        "#         # Remove all numbers from the text\n",
        "#         text = re.sub(r'\\d+', '', text)\n",
        "#         # Split the text into sentences\n",
        "#         for sentence in nltk.sent_tokenize(text):\n",
        "#             # Create a TextBlob object from the sentence\n",
        "#             blob = TextBlob(sentence)\n",
        "#             # Lemmatize each word in the sentence and filter out non-English words\n",
        "#             english_words_list = [w.lemma for w in blob.words if w.lemma.lower() in nltk.corpus.words.words()]\n",
        "#             # Join the English words back into a sentence\n",
        "#             english_text = ' '.join(english_words_list)\n",
        "#             # Append the sentence to the list of sentences\n",
        "#             sentences.append(english_text)\n",
        "\n",
        "# # Print the list of sentences\n",
        "# print(sentences)"
      ],
      "metadata": {
        "id": "I81CDBRB4GNZ"
      },
      "execution_count": 9,
      "outputs": []
    },
    {
      "cell_type": "code",
      "source": [
        "len(sentences)"
      ],
      "metadata": {
        "colab": {
          "base_uri": "https://localhost:8080/"
        },
        "id": "yiPnSCGUuy1r",
        "outputId": "41535227-15dc-425f-d912-54208732e516"
      },
      "execution_count": 10,
      "outputs": [
        {
          "output_type": "execute_result",
          "data": {
            "text/plain": [
              "114"
            ]
          },
          "metadata": {},
          "execution_count": 10
        }
      ]
    },
    {
      "cell_type": "code",
      "source": [
        "privacy_keywords = ['privacy', 'confidentiality', 'security']\n",
        "privacy_sentence_list = []\n",
        "for sentence in sentences:\n",
        "  if any(keyword in sentence.lower() for keyword in privacy_keywords):\n",
        "    print(f'######################{sentence.strip()}##################')\n",
        "    privacy_sentence_list.append(sentence.strip())"
      ],
      "metadata": {
        "colab": {
          "base_uri": "https://localhost:8080/"
        },
        "id": "Jo1JJU_d60rl",
        "outputId": "ddc63d58-960b-43a9-894d-aac5cb6bb3c2"
      },
      "execution_count": 11,
      "outputs": [
        {
          "output_type": "stream",
          "name": "stdout",
          "text": [
            "######################Now let talk about the protection of your personal data Q Different private and public keep personal information about us It is sometimes said that our privacy must be properly Are you concerned or not that your privacy is being Are you READ OUT Very concerned Fairly concerned Not very concerned Not at all concerned Q TREND OPINION RESEARCH GROUP AUTUMN Page##################\n",
            "######################Q I am going to read you a list of NATIONALITY that may keep personal information about us For each of them please tell me whether you trust them or not to use this information in a way you think acceptable READ OUT TRUST DO NOT TRUST Medical and Insurance Credit card and financial Police Social Security Tax Local National Credit reference that is which keep of people Mail order opinion research I do trust any of these SPONTANEOUS Q TREND OPINION RESEARCH GROUP AUTUMN Page##################\n",
            "######################IF ABOUT THEM BUT NEVER USED THEM CODE IN Q GO TO Q Q Why have you never used these or SHOW CARD READ OUT MULTIPLE POSSIBLE I would not know how to install them on my computer I would not know how to use them I am not convinced that they work I am not really concerned about my privacy when I go on the They are too expensive Other SPONTANEOUS NEW ASK ALL Q In light of the fight against international terrorism do you think that people should agree a have their telephone SHOW CARD READ OUT ONE ANSWER ONLY b have their use SHOW SAME CARD READ OUT ONE ANSWER ONLY Q Q b READ OUT TELEPHONE USE No the fundamental and of must always be Yes if the only those suspected of terrorist Yes but only if place under the supervision of a NATIONALITY judge Yes everyone should Yes other SPONTANEOUS NEW OPINION RESEARCH GROUP AUTUMN Page##################\n",
            "######################ASK ALL Let move to another topic on the Q Have you ever bought anything on the Yes GO TO Q No GO TO Q GO TO Q NEW ASK Q TO THOSE WHO BOUGHT SOMETHING ON THE CODE IN Q GO TO Q Q How often do you buy on the SHOW CARD READ OUT ONE ANSWER ONLY Once a week or more often Once a month Once every Once every Once a year Less often NEW Q When something on the are you worried about any of the following SHOW CARD READ OUT MULTIPLE POSSIBLE Security of payment Credibility of the information on the Delivery goods delay Your as a consumer being Ability to get warranty or refund Anonymity of I am not worried SPONTANEOUS Other SPONTANEOUS NEW OPINION RESEARCH GROUP AUTUMN Page##################\n",
            "######################IF DO NOT TRUST THE CODE IN Q GO TO Q Q For which of the following do you not trust something on the SHOW CARD READ OUT MULTIPLE POSSIBLE Security of payment Credibility of the information on the Delivery goods delay Your as a consumer being Ability to get warranty or refund Anonymity of Other SPONTANEOUS NEW IF NOT INTERESTED IN SOMETHING ON THE CODE IN Q GO TO Q Q Why are you not interested in something on the SHOW CARD READ OUT MULTIPLE POSSIBLE You like going to the You need to see and touch the product you intend to buy You prefer to get advice are not better than in normal Choice is not better than in normal You are not sure you will get service may not work in OUR COUNTRY Other SPONTANEOUS NEW OPINION RESEARCH GROUP AUTUMN Page##################\n",
            "######################Q a In the context of the have you ever IF CODE IN Q a READ Q a THEN Q b AND SO ON b Have you seen any on the you IF CODE IN Q b READ Q b THEN Q c AND SO ON EXCEPT FOR ITEM c And have you read them SHOW CARD WITH SCALE Q Q Q a IF CODE in IF CODE in READ OUT NOT SEVERAL YES NO YES NO ONCE NEVER TIMES CABLE trust about protecting personal data about the security of payment data about line dispute resolution or amicable resolution other than through the NEW OPINION RESEARCH GROUP AUTUMN Page##################\n"
          ]
        }
      ]
    },
    {
      "cell_type": "code",
      "source": [
        "# df_list = pd.DataFrame(privacy_sentence_list, columns=['privacy_sentence_list'])\n",
        "# df_list.to_csv(\"df_list.csv\")\n",
        "# from google.colab import files\n",
        "# files.download('df_list.csv')"
      ],
      "metadata": {
        "id": "kOREX5PoO_Os"
      },
      "execution_count": 12,
      "outputs": []
    },
    {
      "cell_type": "code",
      "source": [
        "# Download the Punkt tokenizer for sentence splitting (only needed once)\n",
        "nltk.download('punkt')\n",
        "\n",
        "# Download the English words corpus (only needed once)\n",
        "nltk.download('words')\n",
        "\n",
        "# Create an empty list to store the sentences\n",
        "sentences = []\n",
        "\n",
        "# Define a regular expression pattern to match numbers\n",
        "number_pattern = re.compile(r'\\d+')\n",
        "\n",
        "# Get the set of English words\n",
        "english_words = set(words.words())\n",
        "\n",
        "# Loop through all pdfs in the working directory\n",
        "for file in os.listdir():\n",
        "    if file.endswith('.pdf'):\n",
        "        # Open the PDF file\n",
        "        with pdfplumber.open(file) as pdf:\n",
        "            # Loop through each page\n",
        "            for i, page in enumerate(pdf.pages):\n",
        "                sentences_list = []\n",
        "                # Extract all the text on the page\n",
        "                text = page.extract_text()\n",
        "                # Remove all numbers from the text\n",
        "                text = re.sub(number_pattern, '', text)\n",
        "                # Split the text into words\n",
        "                words_list = nltk.word_tokenize(text)\n",
        "                # Filter out non-English words\n",
        "                english_words_list = [w for w in words_list if w.lower() in english_words]\n",
        "                # Join the English words back into a sentence\n",
        "                english_text = ' '.join(english_words_list)\n",
        "                # Split the English text into sentences\n",
        "                sentences_list += nltk.sent_tokenize(english_text)\n",
        "                # Add the sentences to the list along with the pdf name and page number\n",
        "                for sentence in sentences_list:\n",
        "                    sentences.append({'pdf': file, 'sentence': sentence, 'page': i+1})\n",
        "\n",
        "# Create a dataframe from the list of sentences\n",
        "df = pd.DataFrame(sentences)\n",
        "\n",
        "# Print the dataframe\n",
        "print(df)\n"
      ],
      "metadata": {
        "colab": {
          "base_uri": "https://localhost:8080/"
        },
        "id": "5joD0web8GyX",
        "outputId": "bc6bf013-db12-4409-8f6c-1fab49bd2d65"
      },
      "execution_count": 13,
      "outputs": [
        {
          "output_type": "stream",
          "name": "stderr",
          "text": [
            "[nltk_data] Downloading package punkt to /root/nltk_data...\n",
            "[nltk_data]   Package punkt is already up-to-date!\n",
            "[nltk_data] Downloading package words to /root/nltk_data...\n",
            "[nltk_data]   Package words is already up-to-date!\n"
          ]
        },
        {
          "output_type": "stream",
          "name": "stdout",
          "text": [
            "                               pdf  \\\n",
            "0     36665-0001-Questionnaire.pdf   \n",
            "1     36665-0001-Questionnaire.pdf   \n",
            "2     36665-0001-Questionnaire.pdf   \n",
            "3     36665-0001-Questionnaire.pdf   \n",
            "4     36665-0001-Questionnaire.pdf   \n",
            "...                            ...   \n",
            "3217  36664-0001-Questionnaire.pdf   \n",
            "3218  36664-0001-Questionnaire.pdf   \n",
            "3219  36664-0001-Questionnaire.pdf   \n",
            "3220  36664-0001-Questionnaire.pdf   \n",
            "3221  36664-0001-Questionnaire.pdf   \n",
            "\n",
            "                                               sentence  page  \n",
            "0     in Data Protection and the Commission Question...     1  \n",
            "1     of Use Information about Content NOTICE Title ...     2  \n",
            "2                                   B BILINGUAL OPINION     3  \n",
            "3     Q What is your nationality Please tell me the ...     4  \n",
            "4     IN EN ASK ALL A D CODE NO ANSWER IN CODE D COD...     5  \n",
            "...                                                 ...   ...  \n",
            "3217  INTERVIEW P Date of the interview P Date de DA...    43  \n",
            "3218  PUBLIC OPINION IN THE EU Public opinion in the...    44  \n",
            "3219  PUBLIC OPINION IN THE EU are that survey are t...    45  \n",
            "3220                           PUBLIC OPINION IN THE EU    46  \n",
            "3221  The are by permission of its the Office for Of...    47  \n",
            "\n",
            "[3222 rows x 3 columns]\n"
          ]
        }
      ]
    },
    {
      "cell_type": "code",
      "source": [
        "privacy_keywords = [\n",
        "    'privacy',\n",
        "    'personal information', \n",
        "    'PII', # personally identifiable information\n",
        "    'data protection', \n",
        "    'information security', \n",
        "    'online privacy', \n",
        "    'privacy policies', \n",
        "    'data collection', \n",
        "    'consent', \n",
        "    'surveillance', \n",
        "    'anonymity', \n",
        "    'tracking', \n",
        "    'location data', \n",
        "    'Internet of Things', # IoT\n",
        "    'behavioral targeting', \n",
        "    'user tracking', \n",
        "    'identity theft', \n",
        "    'cybersecurity', \n",
        "    'cybercrime', \n",
        "    'cyberattack', \n",
        "    'hacking', \n",
        "    'phishing', \n",
        "    'spam', \n",
        "    'virus', \n",
        "    'malware', \n",
        "    'ransomware',\n",
        "    'botnet', \n",
        "    'denial of service', # DoS\n",
        "    'distributed denial of service', # DDoS\n",
        "    'exploit', \n",
        "    'zero-day', \n",
        "    'vulnerability', \n",
        "    'exploit kit',\n",
        "    'backdoor', \n",
        "    'keylogger',\n",
        "    'biometrics', \n",
        "    'face recognition', \n",
        "    'fingerprint', \n",
        "    'iris scan', \n",
        "    'voice recognition',\n",
        "    'encryption', \n",
        "    'cookies', \n",
        "    'cyberstalking', \n",
        "    'privacy violations', \n",
        "    'social media privacy', \n",
        "    'digital privacy', \n",
        "    'data breach', \n",
        "    'phishing', \n",
        "    'ransomware', \n",
        "    'encryption', \n",
        "    'two-factor authentication', # 2FA\n",
        "    'multi-factor authentication', # MFA\n",
        "    'password', \n",
        "    'password manager', \n",
        "    'network security', \n",
        "    'firewall', \n",
        "    'antivirus', \n",
        "    'anti-malware', \n",
        "    'intrusion detection', \n",
        "    'intrusion prevention', \n",
        "    'virtual private network', # VPN\n",
        "    'risk management', \n",
        "    'compliance',\n",
        "    'GDPR', # General Data Protection Regulation\n",
        "    'CCPA', # California Consumer Privacy Act\n",
        "    'HIPAA', # Health Insurance Portability and Accountability Act\n",
        "    'PCI DSS', # Payment Card Industry Data Security Standard\n",
        "    'FISMA', # Federal Information Security Management Act\n",
        "    'SOX', # Sarbanes-Oxley Act\n",
        "    'COPPA', # Children's Online Privacy Protection Act\n",
        "    'Patriot Act', \n",
        "    'privacy impact assessment', # PIA\n",
        "    'privacy-enhancing technology', # PET\n",
        "    'anonymization', \n",
        "    'de-identification', \n",
        "    'pseudonymization', \n",
        "    'transparency', \n",
        "    'accountability',\n",
        "    'confidentiality', \n",
        "    'security'\n",
        "]\n"
      ],
      "metadata": {
        "id": "yo4Gs9ARTTTh"
      },
      "execution_count": 24,
      "outputs": []
    },
    {
      "cell_type": "code",
      "source": [],
      "metadata": {
        "id": "TVTrLG7HA4Ct"
      },
      "execution_count": 29,
      "outputs": []
    },
    {
      "cell_type": "code",
      "source": [
        "# create empty lists to store the matching rows and corresponding phrases\n",
        "matching_rows = []\n",
        "matching_phrases = []\n",
        "\n",
        "# iterate over rows of the dataframe and append those that match the privacy_keywords to the lists\n",
        "for index, row in df.iterrows():\n",
        "    if any(keyword in row['sentence'].lower() for keyword in privacy_keywords):\n",
        "        matching_rows.append(row)\n",
        "        words = row['sentence'].lower().split()\n",
        "        index_keyword = [i for i, word in enumerate(words) if word in privacy_keywords]\n",
        "        if index_keyword:\n",
        "            keyword_index = index_keyword[0]\n",
        "            start = max(0, keyword_index - 2)\n",
        "            end = min(len(words), keyword_index + 3)\n",
        "            if keyword_index - start < 2:\n",
        "                start = max(0, keyword_index - 1)\n",
        "            if end - keyword_index < 2:\n",
        "                end = min(len(words), keyword_index + 2)\n",
        "            phrase = ' '.join(words[start:end])\n",
        "        else:\n",
        "            phrase = ''\n",
        "        matching_phrases.append(phrase)\n",
        "\n",
        "# create a new dataframe from the matching rows and phrases\n",
        "new_df = pd.DataFrame(matching_rows)\n",
        "new_df['matching_phrase'] = matching_phrases\n",
        "\n",
        "print(new_df)\n"
      ],
      "metadata": {
        "colab": {
          "base_uri": "https://localhost:8080/"
        },
        "id": "vxXztxtFzZGW",
        "outputId": "5a4a2948-9be1-4aea-c588-013143e757ba"
      },
      "execution_count": 33,
      "outputs": [
        {
          "output_type": "stream",
          "name": "stdout",
          "text": [
            "                               pdf  \\\n",
            "5     36665-0001-Questionnaire.pdf   \n",
            "6     36665-0001-Questionnaire.pdf   \n",
            "8     36665-0001-Questionnaire.pdf   \n",
            "14    36665-0001-Questionnaire.pdf   \n",
            "16    36665-0001-Questionnaire.pdf   \n",
            "...                            ...   \n",
            "3055       07958-0001-Codebook.pdf   \n",
            "3107       07958-0001-Codebook.pdf   \n",
            "3182  36664-0001-Questionnaire.pdf   \n",
            "3183  36664-0001-Questionnaire.pdf   \n",
            "3193  36664-0001-Questionnaire.pdf   \n",
            "\n",
            "                                               sentence  page  \\\n",
            "5     What are your for the next twelve will the nex...     6   \n",
            "6     ROTATE TO ROTATION A CODE IS EXCLUSIVE CODE CO...     7   \n",
            "8     I would like to ask you a question about how m...     9   \n",
            "14    ASK IF THAT PARTIAL OR NO CONTROL OVER THE INF...    15   \n",
            "16    ASK TO IF USE SOCIAL CODE TO IN POSER A SI EN ...    17   \n",
            "...                                                 ...   ...   \n",
            "3055  have you or read of that is the And which of t...    91   \n",
            "3107  Have you or read of that is the And which of t...   147   \n",
            "3182  ROTATE TO ROTATION A The Parliament the develo...     8   \n",
            "3183  DO NOT PROPOSE ANSWER GIVEN IN NE PROPOSER LA ...     9   \n",
            "3193  READ OUT Civil are pilotless that can come in ...    19   \n",
            "\n",
            "                         matching_phrase  \n",
            "5              and social security de de  \n",
            "6              and social security de de  \n",
            "8      defence and security policy among  \n",
            "14          of national security pour de  \n",
            "16                 the la privacy by the  \n",
            "...                                  ...  \n",
            "3055             for its security in the  \n",
            "3107    other country security develop a  \n",
            "3182        stage a security and defence  \n",
            "3183        stage a security and defence  \n",
            "3193  to constituent privacy menace pour  \n",
            "\n",
            "[167 rows x 4 columns]\n"
          ]
        }
      ]
    },
    {
      "cell_type": "code",
      "source": [
        "new_df.to_csv(\"privacy_new_df.csv\")\n",
        "from google.colab import files\n",
        "files.download('privacy_new_df.csv')"
      ],
      "metadata": {
        "colab": {
          "base_uri": "https://localhost:8080/",
          "height": 17
        },
        "id": "caEZe9vmOwnE",
        "outputId": "0aa446f7-3c21-4586-fe5c-f0ea26c1b984"
      },
      "execution_count": 34,
      "outputs": [
        {
          "output_type": "display_data",
          "data": {
            "text/plain": [
              "<IPython.core.display.Javascript object>"
            ],
            "application/javascript": [
              "\n",
              "    async function download(id, filename, size) {\n",
              "      if (!google.colab.kernel.accessAllowed) {\n",
              "        return;\n",
              "      }\n",
              "      const div = document.createElement('div');\n",
              "      const label = document.createElement('label');\n",
              "      label.textContent = `Downloading \"${filename}\": `;\n",
              "      div.appendChild(label);\n",
              "      const progress = document.createElement('progress');\n",
              "      progress.max = size;\n",
              "      div.appendChild(progress);\n",
              "      document.body.appendChild(div);\n",
              "\n",
              "      const buffers = [];\n",
              "      let downloaded = 0;\n",
              "\n",
              "      const channel = await google.colab.kernel.comms.open(id);\n",
              "      // Send a message to notify the kernel that we're ready.\n",
              "      channel.send({})\n",
              "\n",
              "      for await (const message of channel.messages) {\n",
              "        // Send a message to notify the kernel that we're ready.\n",
              "        channel.send({})\n",
              "        if (message.buffers) {\n",
              "          for (const buffer of message.buffers) {\n",
              "            buffers.push(buffer);\n",
              "            downloaded += buffer.byteLength;\n",
              "            progress.value = downloaded;\n",
              "          }\n",
              "        }\n",
              "      }\n",
              "      const blob = new Blob(buffers, {type: 'application/binary'});\n",
              "      const a = document.createElement('a');\n",
              "      a.href = window.URL.createObjectURL(blob);\n",
              "      a.download = filename;\n",
              "      div.appendChild(a);\n",
              "      a.click();\n",
              "      div.remove();\n",
              "    }\n",
              "  "
            ]
          },
          "metadata": {}
        },
        {
          "output_type": "display_data",
          "data": {
            "text/plain": [
              "<IPython.core.display.Javascript object>"
            ],
            "application/javascript": [
              "download(\"download_d1fde03f-e308-4ef4-8f8a-1b2d472f55e4\", \"privacy_new_df.csv\", 159978)"
            ]
          },
          "metadata": {}
        }
      ]
    },
    {
      "cell_type": "code",
      "source": [
        "privacy_keywords = [\n",
        "    'our privacy must be properly'\n",
        "]\n",
        "\n",
        "# create an empty list to store the matching rows\n",
        "matching_rows = []\n",
        "\n",
        "# iterate over rows of the dataframe and print those that match the privacy_keywords\n",
        "for index, row in df.iterrows():\n",
        "    if any(keyword in row['sentence'].lower() for keyword in privacy_keywords):\n",
        "        matching_rows.append(row)\n",
        "\n",
        "# create a new dataframe from the matching rows\n",
        "new_df_sentence = pd.DataFrame(matching_rows)\n",
        "\n",
        "print(new_df_sentence)"
      ],
      "metadata": {
        "colab": {
          "base_uri": "https://localhost:8080/"
        },
        "id": "JExnPo1uXMbE",
        "outputId": "458c7b8f-c8c9-466b-a7e4-ca0b14578438"
      },
      "execution_count": 35,
      "outputs": [
        {
          "output_type": "stream",
          "name": "stdout",
          "text": [
            "                              pdf  \\\n",
            "435  03951-0001-Questionnaire.pdf   \n",
            "608  06749-0001-Questionnaire.pdf   \n",
            "\n",
            "                                              sentence  page  \n",
            "435  Now let talk about the protection of your pers...    16  \n",
            "608  Q In the past have you been for a market surve...    27  \n"
          ]
        }
      ]
    },
    {
      "cell_type": "code",
      "source": [
        "# # define a regular expression to extract phrases with the same two words before and after the privacy keyword\n",
        "# pattern = r'\\b(\\w+\\s+\\w+)\\s+(privacy|confidentiality|security)\\s+(\\w+\\s+\\w+)\\b'\n",
        "\n",
        "# # create an empty list to store the similar rows\n",
        "# similar_rows = []\n",
        "\n",
        "# # iterate over rows of the new dataframe and extract similar phrases\n",
        "# for index, row in new_df.iterrows():\n",
        "#     sentence = row['sentence'].lower()\n",
        "#     match = re.search(pattern, sentence)\n",
        "#     if match:\n",
        "#         # extract the similar phrase from the match object and store it in a new column called \"similar_phrase\"\n",
        "#         similar_phrase = match.group(1) + ' ' + match.group(2) + ' ' + match.group(3)\n",
        "#         row['similar_phrase'] = similar_phrase\n",
        "#         similar_rows.append(row)\n",
        "\n",
        "# # create a new dataframe from the similar rows\n",
        "# similar_df = pd.DataFrame(similar_rows)\n",
        "\n",
        "# # sort the resulting dataframe in alphabetical order based on the \"similar_phrase\" column of the dataframe\n",
        "# similar_df.sort_values(by=['similar_phrase'], inplace=True)\n",
        "\n",
        "# print(similar_df)"
      ],
      "metadata": {
        "id": "Z0MAN1ZZCNBy"
      },
      "execution_count": 30,
      "outputs": []
    },
    {
      "cell_type": "code",
      "source": [
        "# similar_df.to_csv(\"privacy_sentences.csv\")\n",
        "# from google.colab import files\n",
        "# files.download('privacy_sentences.csv')"
      ],
      "metadata": {
        "id": "02OQS6sfIF5p"
      },
      "execution_count": 31,
      "outputs": []
    }
  ]
}